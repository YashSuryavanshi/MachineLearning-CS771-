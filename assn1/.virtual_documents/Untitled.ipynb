import numpy as np
import sklearn
from scipy.linalg import khatri_rao
from sklearn.linear_model import LogisticRegression
from sklearn.metrics import confusion_matrix,accuracy_score


file_path = 'train.dat'
data = np.loadtxt(file_path)
data2 = np.loadtxt('test.dat')


first_five_datapoints = data[:5, :]
print("First 5 datapoints:")
print(first_five_datapoints)


X_train = data[:,:-1]
y_train = data[:,-1]
X_test = data2[:,:-1]
y_test = data2[:,-1]
'''X=X_train[0,:]
Y=X_train[1,:]
X2=X.reshape(32,1)
Y2=Y.reshape(32,1)
y=khatri_rao(X2,Y2)
a=y.flatten()
print(a)'''


def my_map(X_train):
    row,column=X_train.shape
    for a in range(row):
        for b in range(column):
            if(X_train[a][b]==0):
                X_train[a][b]=1
            else:
                X_train[a][b]=-1 
    def my_map2(X):
        feat=[]
        feat.append(X)
        for x in range(31):
            Y=X[x].reshape(1,1)
            X2=X[x+1:32].reshape(31-x,1)
            y=khatri_rao(Y,X2)
            feat.extend(y)
        res=[]
        for i in feat:
            res.extend(i)
        res=np.array(res)
        return res
    X_new=[]
    for i in range(row):     
        arr=my_map2(X_train[i,:])
        X_new.append(arr)
    X_mew2=np.array(X_new)
    return X_mew2
#print(X_train[:,31:31+1].reshape(1,40000).shape,X_train.shape)


def my_fit(X_train, y_train):
    X=my_map(X_train)
    classifier=LogisticRegression(random_state=0)
    classifier.fit(X, y_train)
    w = classifier.coef_
    b = classifier.intercept_
    return classifier,w,b;


classifier,w1,b1=my_fit(X_train,y_train)


y_pred = classifier.predict(my_map(X_test))
cm = confusion_matrix(y_test, y_pred)
print(cm)
accuracy_score(y_test, y_pred)



