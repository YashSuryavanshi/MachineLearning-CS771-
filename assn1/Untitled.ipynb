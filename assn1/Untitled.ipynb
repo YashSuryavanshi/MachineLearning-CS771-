{
 "cells": [
  {
   "cell_type": "code",
   "execution_count": 78,
   "id": "aa90e8d9-48dc-41ec-a8c6-349410a7b173",
   "metadata": {},
   "outputs": [],
   "source": [
    "import numpy as np\n",
    "import time\n",
    "import sklearn\n",
    "from scipy.linalg import khatri_rao\n",
    "from sklearn.linear_model import LogisticRegression\n",
    "from sklearn.metrics import confusion_matrix,accuracy_score"
   ]
  },
  {
   "cell_type": "code",
   "execution_count": 79,
   "id": "6bdb7f5c-2227-447c-b5a3-49bf46247c95",
   "metadata": {},
   "outputs": [],
   "source": [
    "file_path = 'train.dat'\n",
    "data = np.loadtxt(file_path)\n",
    "data2 = np.loadtxt('test.dat')"
   ]
  },
  {
   "cell_type": "code",
   "execution_count": 80,
   "id": "e8153878-7478-4163-bfe0-7a10d7091608",
   "metadata": {},
   "outputs": [
    {
     "name": "stdout",
     "output_type": "stream",
     "text": [
      "First 5 datapoints:\n",
      "[[1. 0. 0. 1. 0. 0. 1. 0. 0. 0. 0. 1. 1. 0. 1. 0. 0. 1. 1. 1. 0. 0. 0. 1.\n",
      "  1. 1. 0. 0. 1. 0. 1. 1. 0.]\n",
      " [1. 1. 0. 0. 0. 0. 1. 0. 0. 0. 1. 1. 0. 1. 0. 1. 0. 0. 1. 0. 1. 0. 0. 1.\n",
      "  1. 1. 0. 1. 0. 1. 1. 1. 1.]\n",
      " [0. 1. 0. 0. 0. 0. 1. 0. 1. 1. 0. 1. 1. 1. 1. 1. 0. 1. 1. 1. 1. 0. 1. 1.\n",
      "  0. 1. 1. 0. 0. 0. 0. 0. 0.]\n",
      " [0. 0. 0. 1. 0. 1. 0. 1. 0. 0. 0. 1. 1. 1. 1. 1. 0. 0. 0. 0. 1. 0. 0. 0.\n",
      "  1. 0. 0. 1. 1. 0. 0. 0. 1.]\n",
      " [0. 1. 1. 0. 1. 0. 0. 1. 0. 1. 0. 1. 1. 0. 1. 0. 1. 0. 1. 1. 0. 1. 1. 1.\n",
      "  0. 1. 0. 0. 1. 1. 1. 0. 0.]]\n"
     ]
    }
   ],
   "source": [
    "first_five_datapoints = data[:5, :]\n",
    "print(\"First 5 datapoints:\")\n",
    "print(first_five_datapoints)"
   ]
  },
  {
   "cell_type": "code",
   "execution_count": 81,
   "id": "769b8d2c-cb01-482d-a00d-ab8761a8b1ff",
   "metadata": {},
   "outputs": [
    {
     "data": {
      "text/plain": [
       "'X=X_train[0,:]\\nY=X_train[1,:]\\nX2=X.reshape(32,1)\\nY2=Y.reshape(32,1)\\ny=khatri_rao(X2,Y2)\\na=y.flatten()\\nprint(a)'"
      ]
     },
     "execution_count": 81,
     "metadata": {},
     "output_type": "execute_result"
    }
   ],
   "source": [
    "X_train = data[:,:-1]\n",
    "y_train = data[:,-1]\n",
    "for a in range(len(y_train)):\n",
    "    if(y_train[a]==0):\n",
    "        y_train[a]=1\n",
    "    else:\n",
    "        y_train[a]=-1\n",
    "X_test = data2[:,:-1]\n",
    "y_test = data2[:,-1]\n",
    "'''X=X_train[0,:]\n",
    "Y=X_train[1,:]\n",
    "X2=X.reshape(32,1)\n",
    "Y2=Y.reshape(32,1)\n",
    "y=khatri_rao(X2,Y2)\n",
    "a=y.flatten()\n",
    "print(a)'''"
   ]
  },
  {
   "cell_type": "code",
   "execution_count": 82,
   "id": "fb3fa4e7-8a60-4194-ad11-93988beef3ce",
   "metadata": {},
   "outputs": [],
   "source": [
    "def my_map(X_train):\n",
    "    row,column=X_train.shape\n",
    "    for a in range(row):\n",
    "        for b in range(column):\n",
    "            if(X_train[a][b]==0):\n",
    "                X_train[a][b]=1\n",
    "            else:\n",
    "                X_train[a][b]=-1 \n",
    "    def my_map2(X):\n",
    "        feat=[]\n",
    "        feat.append(X)\n",
    "        for x in range(31):\n",
    "            Y=X[x].reshape(1,1)\n",
    "            X2=X[x+1:32].reshape(31-x,1)\n",
    "            y=khatri_rao(Y,X2)\n",
    "            feat.extend(y)\n",
    "        res=[]\n",
    "        for i in feat:\n",
    "            res.extend(i)\n",
    "        res=np.array(res)\n",
    "        return res\n",
    "    X_new=[]\n",
    "    for i in range(row):     \n",
    "        arr=my_map2(X_train[i,:])\n",
    "        X_new.append(arr)\n",
    "    X_mew2=np.array(X_new)\n",
    "    return X_mew2\n",
    "#print(X_train[:,31:31+1].reshape(1,40000).shape,X_train.shape)"
   ]
  },
  {
   "cell_type": "code",
   "execution_count": 83,
   "id": "b4ad21fa-838a-4b7b-8eb0-28ced3ed0a17",
   "metadata": {},
   "outputs": [],
   "source": [
    "def my_fit(X_train, y_train):\n",
    "    X=my_map(X_train)\n",
    "    classifier=LogisticRegression(random_state=0)\n",
    "    classifier.fit(X, y_train)\n",
    "    w = classifier.coef_\n",
    "    b = classifier.intercept_\n",
    "    return classifier,w,b;"
   ]
  },
  {
   "cell_type": "code",
   "execution_count": 84,
   "id": "12249eac-04be-49c6-a01a-e05706a4d079",
   "metadata": {},
   "outputs": [
    {
     "name": "stdout",
     "output_type": "stream",
     "text": [
      "17.13234782218933\n"
     ]
    }
   ],
   "source": [
    "start_time=time.time()\n",
    "classifier,w1,b1=my_fit(X_train,y_train)\n",
    "end_time=time.time()\n",
    "print(end_time-start_time)"
   ]
  },
  {
   "cell_type": "code",
   "execution_count": 85,
   "id": "34489749-5b17-4fe3-bc2c-94fb4bcf491b",
   "metadata": {},
   "outputs": [
    {
     "data": {
      "text/plain": [
       "0.50135"
      ]
     },
     "execution_count": 85,
     "metadata": {},
     "output_type": "execute_result"
    }
   ],
   "source": [
    "y_pred = classifier.predict(my_map(X_train))\n",
    "accuracy_score(y_train, y_pred)"
   ]
  },
  {
   "cell_type": "code",
   "execution_count": null,
   "id": "eba97682-955a-41da-bfae-76ca454ba4b2",
   "metadata": {},
   "outputs": [],
   "source": []
  }
 ],
 "metadata": {
  "kernelspec": {
   "display_name": "Python 3 (ipykernel)",
   "language": "python",
   "name": "python3"
  },
  "language_info": {
   "codemirror_mode": {
    "name": "ipython",
    "version": 3
   },
   "file_extension": ".py",
   "mimetype": "text/x-python",
   "name": "python",
   "nbconvert_exporter": "python",
   "pygments_lexer": "ipython3",
   "version": "3.9.0"
  }
 },
 "nbformat": 4,
 "nbformat_minor": 5
}
