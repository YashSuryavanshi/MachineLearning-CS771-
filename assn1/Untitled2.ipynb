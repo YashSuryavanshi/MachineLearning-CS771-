{
 "cells": [
  {
   "cell_type": "code",
   "execution_count": null,
   "id": "7f30da63-f44b-42b7-a302-77847101ce33",
   "metadata": {},
   "outputs": [],
   "source": [
    "import numpy as np\n",
    "from submit import my_map\n",
    "from submit import my_fit\n",
    "import time as tm"
   ]
  },
  {
   "cell_type": "code",
   "execution_count": null,
   "id": "2403a918-2ea3-4f99-b1a8-604bb5535484",
   "metadata": {},
   "outputs": [],
   "source": [
    "Z_trn = np.loadtxt( \"secret_train.dat\" )\n",
    "Z_tst = np.loadtxt( \"secret_test.dat\" )\n",
    "\n",
    "n_trials = 5\n",
    "\n",
    "d_size = 0\n",
    "t_train = 0\n",
    "t_map = 0\n",
    "acc = 0"
   ]
  }
 ],
 "metadata": {
  "kernelspec": {
   "display_name": "Python 3 (ipykernel)",
   "language": "python",
   "name": "python3"
  },
  "language_info": {
   "codemirror_mode": {
    "name": "ipython",
    "version": 3
   },
   "file_extension": ".py",
   "mimetype": "text/x-python",
   "name": "python",
   "nbconvert_exporter": "python",
   "pygments_lexer": "ipython3",
   "version": "3.9.0"
  }
 },
 "nbformat": 4,
 "nbformat_minor": 5
}
