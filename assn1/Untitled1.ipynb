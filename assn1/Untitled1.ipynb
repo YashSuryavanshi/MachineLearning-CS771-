{
 "cells": [
  {
   "cell_type": "code",
   "execution_count": 8,
   "id": "9c7aa589-0853-485c-b60e-ac3ac8c58343",
   "metadata": {},
   "outputs": [],
   "source": [
    "import numpy as np\n",
    "import time\n",
    "import sklearn\n",
    "from scipy.linalg import khatri_rao\n",
    "from sklearn.linear_model import LogisticRegression as lg\n",
    "from sklearn.metrics import confusion_matrix,accuracy_score"
   ]
  },
  {
   "cell_type": "code",
   "execution_count": 9,
   "id": "c53a2eca-c36d-41e8-89bc-25354a4182e6",
   "metadata": {},
   "outputs": [],
   "source": [
    "file_path = 'train.dat'\n",
    "data = np.loadtxt(file_path)\n",
    "data2 = np.loadtxt('test.dat')"
   ]
  },
  {
   "cell_type": "code",
   "execution_count": 10,
   "id": "356200e9-60d4-4c80-83ee-396dd782a46a",
   "metadata": {},
   "outputs": [
    {
     "name": "stdout",
     "output_type": "stream",
     "text": [
      "First 5 datapoints:\n",
      "[[1. 0. 0. 1. 0. 0. 1. 0. 0. 0. 0. 1. 1. 0. 1. 0. 0. 1. 1. 1. 0. 0. 0. 1.\n",
      "  1. 1. 0. 0. 1. 0. 1. 1. 0.]\n",
      " [1. 1. 0. 0. 0. 0. 1. 0. 0. 0. 1. 1. 0. 1. 0. 1. 0. 0. 1. 0. 1. 0. 0. 1.\n",
      "  1. 1. 0. 1. 0. 1. 1. 1. 1.]\n",
      " [0. 1. 0. 0. 0. 0. 1. 0. 1. 1. 0. 1. 1. 1. 1. 1. 0. 1. 1. 1. 1. 0. 1. 1.\n",
      "  0. 1. 1. 0. 0. 0. 0. 0. 0.]\n",
      " [0. 0. 0. 1. 0. 1. 0. 1. 0. 0. 0. 1. 1. 1. 1. 1. 0. 0. 0. 0. 1. 0. 0. 0.\n",
      "  1. 0. 0. 1. 1. 0. 0. 0. 1.]\n",
      " [0. 1. 1. 0. 1. 0. 0. 1. 0. 1. 0. 1. 1. 0. 1. 0. 1. 0. 1. 1. 0. 1. 1. 1.\n",
      "  0. 1. 0. 0. 1. 1. 1. 0. 0.]]\n"
     ]
    }
   ],
   "source": [
    "first_five_datapoints = data[:5, :]\n",
    "print(\"First 5 datapoints:\")\n",
    "print(first_five_datapoints)"
   ]
  },
  {
   "cell_type": "code",
   "execution_count": 11,
   "id": "ee209392-0580-49cf-9706-0c069c53c2da",
   "metadata": {},
   "outputs": [],
   "source": [
    "X_train = data[:,:-1]\n",
    "y_train = data[:,-1]\n",
    "X_test = data2[:,:-1]\n",
    "y_test = data2[:,-1]"
   ]
  },
  {
   "cell_type": "code",
   "execution_count": 12,
   "id": "a481477d-3619-4dcb-ab6f-800b59808fba",
   "metadata": {},
   "outputs": [],
   "source": [
    "def my_map(X_raw):\n",
    "    # Transform X_raw into d using element-wise computation\n",
    "    d = np.flip(2 * X_raw - 1, axis=1)\n",
    "\n",
    "    # Compute X using cumulative product along the flipped axis\n",
    "    X = np.cumprod(d, axis=1)\n",
    "\n",
    "    # y = np.where(y_raw > 0, 1, -1)\n",
    "    X_new = [X]\n",
    "    for i in range(32):\n",
    "        for j in range(i + 1, 32):\n",
    "            prod_col = X[:, i] * X[:, j]\n",
    "            X_new.append(prod_col[:, np.newaxis])\n",
    "\n",
    "    X_new = np.concatenate(X_new, axis=1)\n",
    "    return X_new"
   ]
  },
  {
   "cell_type": "code",
   "execution_count": 13,
   "id": "b7d3e63b-d7b8-4f9e-bd11-0033f135135d",
   "metadata": {},
   "outputs": [],
   "source": [
    "def my_fit(X, y):\n",
    "    X_tn = my_map(X)\n",
    "    classifier=lg(random_state=0)\n",
    "    classifier.fit(X_tn, y)\n",
    "    w = classifier.coef_\n",
    "    b= classifier.intercept_\n",
    "    return classifier,w,b"
   ]
  },
  {
   "cell_type": "code",
   "execution_count": 14,
   "id": "3b54691b-1f94-4f88-80d6-ae13d2dd0b91",
   "metadata": {},
   "outputs": [
    {
     "data": {
      "text/plain": [
       "0.9907"
      ]
     },
     "execution_count": 14,
     "metadata": {},
     "output_type": "execute_result"
    }
   ],
   "source": [
    "classifier,w1,b1=my_fit(X_train,y_train)\n",
    "y_pred = classifier.predict(my_map(X_test))\n",
    "accuracy_score(y_test, y_pred)"
   ]
  }
 ],
 "metadata": {
  "kernelspec": {
   "display_name": "Python 3 (ipykernel)",
   "language": "python",
   "name": "python3"
  },
  "language_info": {
   "codemirror_mode": {
    "name": "ipython",
    "version": 3
   },
   "file_extension": ".py",
   "mimetype": "text/x-python",
   "name": "python",
   "nbconvert_exporter": "python",
   "pygments_lexer": "ipython3",
   "version": "3.9.0"
  }
 },
 "nbformat": 4,
 "nbformat_minor": 5
}
