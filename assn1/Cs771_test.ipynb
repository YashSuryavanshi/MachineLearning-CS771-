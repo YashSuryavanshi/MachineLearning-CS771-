{
 "cells": [
  {
   "cell_type": "code",
   "execution_count": 4,
   "metadata": {
    "colab": {
     "base_uri": "https://localhost:8080/"
    },
    "id": "H1XOer4i_NlJ",
    "outputId": "aedf6681-ac75-4696-d61c-63d11559917a"
   },
   "outputs": [
    {
     "name": "stdout",
     "output_type": "stream",
     "text": [
      "The autoreload extension is already loaded. To reload it, use:\n",
      "  %reload_ext autoreload\n"
     ]
    }
   ],
   "source": [
    "%load_ext autoreload\n",
    "%autoreload 2"
   ]
  },
  {
   "cell_type": "code",
   "execution_count": 5,
   "metadata": {
    "id": "Xw1ZRuHX_P8j"
   },
   "outputs": [],
   "source": [
    "import math\n",
    "import numpy as np\n",
    "from sklearn.model_selection import train_test_split\n",
    "import sklearn\n",
    "from sklearn.svm import LinearSVC\n",
    "import pickle\n",
    "import time\n",
    "from sklearn.preprocessing import PolynomialFeatures\n",
    "from sklearn.linear_model import Lasso\n",
    "from sklearn.linear_model import LogisticRegression\n",
    "from sklearn.metrics import confusion_matrix,accuracy_score\n",
    "from sklearn.linear_model import Ridge"
   ]
  },
  {
   "cell_type": "code",
   "execution_count": 6,
   "metadata": {
    "id": "QJilxM_P_R4f"
   },
   "outputs": [],
   "source": [
    "file_path = 'train.dat'\n",
    "data = np.loadtxt(file_path)"
   ]
  },
  {
   "cell_type": "code",
   "execution_count": 7,
   "metadata": {
    "id": "W3uVGeaO_VN0"
   },
   "outputs": [],
   "source": [
    "# data_trn, data_tst = train_test_split( data, train_size = 30000 )"
   ]
  },
  {
   "cell_type": "code",
   "execution_count": 8,
   "metadata": {
    "id": "maCBWSk9_bGT"
   },
   "outputs": [],
   "source": [
    "def my_map(X_raw):\n",
    "\n",
    "    # Transform X_raw into d using element-wise computation\n",
    "    d = np.flip(2 * X_raw - 1, axis=1)\n",
    "\n",
    "    # Compute X using cumulative product along the flipped axis\n",
    "    X = np.cumprod(d, axis=1)\n",
    "\n",
    "    X_new = [X]\n",
    "    for i in range(32):\n",
    "        for j in range(i + 1, 32):\n",
    "            prod_col = X[:, i] * X[:, j]\n",
    "            X_new.append(prod_col[:, np.newaxis])\n",
    "\n",
    "    X_new = np.concatenate(X_new, axis=1)\n",
    "    return X_new\n"
   ]
  },
  {
   "cell_type": "code",
   "execution_count": 9,
   "metadata": {
    "colab": {
     "base_uri": "https://localhost:8080/"
    },
    "id": "Sp6GwRBs_keM",
    "outputId": "bd9ead93-a82c-4312-935d-54d96b8db8f4"
   },
   "outputs": [
    {
     "ename": "ValueError",
     "evalue": "too many values to unpack (expected 2)",
     "output_type": "error",
     "traceback": [
      "\u001b[1;31m---------------------------------------------------------------------------\u001b[0m",
      "\u001b[1;31mValueError\u001b[0m                                Traceback (most recent call last)",
      "Cell \u001b[1;32mIn[9], line 2\u001b[0m\n\u001b[0;32m      1\u001b[0m strt_time \u001b[38;5;241m=\u001b[39m time\u001b[38;5;241m.\u001b[39mtime()\n\u001b[1;32m----> 2\u001b[0m X_trn, y_trn \u001b[38;5;241m=\u001b[39m my_map(data)\n\u001b[0;32m      3\u001b[0m end_time \u001b[38;5;241m=\u001b[39m time\u001b[38;5;241m.\u001b[39mtime()\n\u001b[0;32m      4\u001b[0m \u001b[38;5;28mprint\u001b[39m(end_time\u001b[38;5;241m-\u001b[39mstrt_time)\n",
      "\u001b[1;31mValueError\u001b[0m: too many values to unpack (expected 2)"
     ]
    }
   ],
   "source": [
    "strt_time = time.time()\n",
    "#X_trn, y_trn = my_map(data)\n",
    "end_time = time.time()\n",
    "print(end_time-strt_time)"
   ]
  },
  {
   "cell_type": "code",
   "execution_count": null,
   "metadata": {
    "colab": {
     "base_uri": "https://localhost:8080/"
    },
    "id": "hMpdrHHp_rxJ",
    "outputId": "834ab84b-559d-4772-b666-af250325afaa"
   },
   "outputs": [],
   "source": [
    "for i in range(1):\n",
    "    print(f\"Data Point {i} - X: {X_trn[i, :]}, y: {y_trn[i]}\")"
   ]
  },
  {
   "cell_type": "code",
   "execution_count": null,
   "metadata": {
    "id": "51jlJ1z0_w0I"
   },
   "outputs": [],
   "source": [
    "def reduce_dimensionality_with_lasso(X_trn, y_trn, X_test, y_test, alpha, threshold=1e-4):\n",
    "    lasso_model = Lasso(alpha=alpha)\n",
    "    lasso_model.fit(X_trn, y_trn)\n",
    "    coefficients = lasso_model.coef_\n",
    "    selected_features = np.where(np.abs(coefficients) > threshold)[0]\n",
    "    X_trn_reduced = X_trn[:, selected_features]\n",
    "    X_test_reduced = X_test[:, selected_features]\n",
    "    return X_trn_reduced, X_test_reduced"
   ]
  },
  {
   "cell_type": "code",
   "execution_count": null,
   "metadata": {
    "id": "aB_NXfzZYlDX"
   },
   "outputs": [],
   "source": [
    "def reduce_dimensionality_with_ridge(X_trn, y_trn, X_test, y_test, alpha, threshold=1e-4):\n",
    "    ridge_model = Ridge(alpha=alpha)\n",
    "    ridge_model.fit(X_trn, y_trn)\n",
    "    coefficients = ridge_model.coef_\n",
    "    selected_features = np.where(np.abs(coefficients) > threshold)[0]\n",
    "    X_trn_reduced = X_trn[:, selected_features]\n",
    "    X_test_reduced = X_test[:, selected_features]\n",
    "    return X_trn_reduced, X_test_reduced\n"
   ]
  },
  {
   "cell_type": "code",
   "execution_count": null,
   "metadata": {
    "id": "pmlOn6ZoCKyS"
   },
   "outputs": [],
   "source": [
    "file_path_2 = '/content/test.dat'\n",
    "test_data = np.loadtxt(file_path_2)"
   ]
  },
  {
   "cell_type": "code",
   "execution_count": null,
   "metadata": {
    "id": "aKMzTPqtDV86"
   },
   "outputs": [],
   "source": [
    "X_test, y_test = my_map(test_data)"
   ]
  },
  {
   "cell_type": "code",
   "execution_count": null,
   "metadata": {
    "id": "VDVzavXSFYjb"
   },
   "outputs": [],
   "source": [
    "X_trn_new,X_test_new = reduce_dimensionality_with_lasso(X_trn, y_trn, X_test, y_test, alpha=0.005, threshold=1e-4)"
   ]
  },
  {
   "cell_type": "code",
   "execution_count": null,
   "metadata": {
    "id": "jHMxL4QqYr0D"
   },
   "outputs": [],
   "source": [
    "# X_trn_new,X_test_new = reduce_dimensionality_with_ridge(X_trn, y_trn, X_test, y_test, alpha=0.1, threshold=1e-4)"
   ]
  },
  {
   "cell_type": "code",
   "execution_count": null,
   "metadata": {
    "colab": {
     "base_uri": "https://localhost:8080/"
    },
    "id": "s-szhtXiFjNt",
    "outputId": "b2b936c4-0392-4f34-b2da-baf288663462"
   },
   "outputs": [],
   "source": [
    "print( X_test.shape[1])\n",
    "print(X_trn_new.shape[1])\n",
    "print(X_test_new.shape[1])"
   ]
  },
  {
   "cell_type": "code",
   "execution_count": null,
   "metadata": {
    "id": "60utgI2lHffx"
   },
   "outputs": [],
   "source": [
    "def my_fit(X, y):\n",
    "    X_raw=my_map(X)\n",
    "    classifier = LogisticRegression(random_state=0)\n",
    "    classifier.fit(X_raw, y)\n",
    "    return classifier"
   ]
  },
  {
   "cell_type": "code",
   "execution_count": null,
   "metadata": {
    "colab": {
     "base_uri": "https://localhost:8080/"
    },
    "id": "QyRbTfLTH8gw",
    "outputId": "8d6bcf53-dfa7-4661-e326-ec6e0848c2bd"
   },
   "outputs": [],
   "source": [
    "strt_time = time.time()\n",
    "cls_1 = my_fit(X_trn,y_trn)\n",
    "end_time = time.time()\n",
    "print(end_time-strt_time)"
   ]
  },
  {
   "cell_type": "code",
   "execution_count": null,
   "metadata": {
    "colab": {
     "base_uri": "https://localhost:8080/"
    },
    "id": "px8la9FNIVEr",
    "outputId": "cbbcad90-d7dc-43e1-b0c6-82c11f3ab245"
   },
   "outputs": [],
   "source": [
    "y_pred = cls_1.predict(X_test)\n",
    "print(np.concatenate((y_pred.reshape(len(y_pred),1),y_test.reshape(len(y_test),1)),1))"
   ]
  },
  {
   "cell_type": "code",
   "execution_count": null,
   "metadata": {
    "colab": {
     "base_uri": "https://localhost:8080/"
    },
    "id": "IuS8O8kLIITd",
    "outputId": "9d26e51f-c95f-411f-a65d-85aed2502e94"
   },
   "outputs": [],
   "source": [
    "\n",
    "cm = confusion_matrix(y_test, y_pred)\n",
    "print(cm)\n",
    "accuracy_score(y_test, y_pred)"
   ]
  },
  {
   "cell_type": "code",
   "execution_count": null,
   "metadata": {
    "id": "38dV2PN6Ihm3"
   },
   "outputs": [],
   "source": [
    "cls_2 = my_fit(X_trn_new,y_trn)"
   ]
  },
  {
   "cell_type": "code",
   "execution_count": null,
   "metadata": {
    "colab": {
     "base_uri": "https://localhost:8080/"
    },
    "id": "_Ae6NF-TIpgK",
    "outputId": "6f0cc33b-fecb-4662-d66b-780c5566e65a"
   },
   "outputs": [],
   "source": [
    "y_pred_new = cls_2.predict(X_test_new)\n",
    "print(np.concatenate((y_pred_new.reshape(len(y_pred_new),1),y_test.reshape(len(y_test),1)),1))"
   ]
  },
  {
   "cell_type": "code",
   "execution_count": null,
   "metadata": {
    "colab": {
     "base_uri": "https://localhost:8080/"
    },
    "id": "T7_iKjb7I18T",
    "outputId": "33e9ccc9-083b-495f-ceeb-37576bbaba66"
   },
   "outputs": [],
   "source": [
    "cm_2 = confusion_matrix(y_test, y_pred_new)\n",
    "print(cm_2)\n",
    "accuracy_score(y_test, y_pred_new)"
   ]
  }
 ],
 "metadata": {
  "colab": {
   "provenance": []
  },
  "kernelspec": {
   "display_name": "Python 3 (ipykernel)",
   "language": "python",
   "name": "python3"
  },
  "language_info": {
   "codemirror_mode": {
    "name": "ipython",
    "version": 3
   },
   "file_extension": ".py",
   "mimetype": "text/x-python",
   "name": "python",
   "nbconvert_exporter": "python",
   "pygments_lexer": "ipython3",
   "version": "3.9.0"
  }
 },
 "nbformat": 4,
 "nbformat_minor": 4
}
