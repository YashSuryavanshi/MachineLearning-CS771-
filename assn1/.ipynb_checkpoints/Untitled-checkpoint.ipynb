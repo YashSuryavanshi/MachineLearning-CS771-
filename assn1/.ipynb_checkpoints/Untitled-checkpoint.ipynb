{
 "cells": [
  {
   "cell_type": "code",
   "execution_count": 125,
   "id": "aa90e8d9-48dc-41ec-a8c6-349410a7b173",
   "metadata": {},
   "outputs": [],
   "source": [
    "import numpy as np\n",
    "import sklearn\n",
    "from scipy.linalg import khatri_rao\n",
    "from sklearn.linear_model import LogisticRegression"
   ]
  },
  {
   "cell_type": "code",
   "execution_count": 126,
   "id": "6bdb7f5c-2227-447c-b5a3-49bf46247c95",
   "metadata": {},
   "outputs": [],
   "source": [
    "file_path = 'train.dat'\n",
    "data = np.loadtxt(file_path)"
   ]
  },
  {
   "cell_type": "code",
   "execution_count": 127,
   "id": "e8153878-7478-4163-bfe0-7a10d7091608",
   "metadata": {},
   "outputs": [
    {
     "name": "stdout",
     "output_type": "stream",
     "text": [
      "First 5 datapoints:\n",
      "[[1. 0. 0. 1. 0. 0. 1. 0. 0. 0. 0. 1. 1. 0. 1. 0. 0. 1. 1. 1. 0. 0. 0. 1.\n",
      "  1. 1. 0. 0. 1. 0. 1. 1. 0.]\n",
      " [1. 1. 0. 0. 0. 0. 1. 0. 0. 0. 1. 1. 0. 1. 0. 1. 0. 0. 1. 0. 1. 0. 0. 1.\n",
      "  1. 1. 0. 1. 0. 1. 1. 1. 1.]\n",
      " [0. 1. 0. 0. 0. 0. 1. 0. 1. 1. 0. 1. 1. 1. 1. 1. 0. 1. 1. 1. 1. 0. 1. 1.\n",
      "  0. 1. 1. 0. 0. 0. 0. 0. 0.]\n",
      " [0. 0. 0. 1. 0. 1. 0. 1. 0. 0. 0. 1. 1. 1. 1. 1. 0. 0. 0. 0. 1. 0. 0. 0.\n",
      "  1. 0. 0. 1. 1. 0. 0. 0. 1.]\n",
      " [0. 1. 1. 0. 1. 0. 0. 1. 0. 1. 0. 1. 1. 0. 1. 0. 1. 0. 1. 1. 0. 1. 1. 1.\n",
      "  0. 1. 0. 0. 1. 1. 1. 0. 0.]]\n"
     ]
    }
   ],
   "source": [
    "first_five_datapoints = data[:5, :]\n",
    "print(\"First 5 datapoints:\")\n",
    "print(first_five_datapoints)"
   ]
  },
  {
   "cell_type": "code",
   "execution_count": 128,
   "id": "769b8d2c-cb01-482d-a00d-ab8761a8b1ff",
   "metadata": {},
   "outputs": [
    {
     "name": "stdout",
     "output_type": "stream",
     "text": [
      "[[1. 0. 0. ... 0. 1. 1.]\n",
      " [1. 1. 0. ... 1. 1. 1.]\n",
      " [0. 1. 0. ... 0. 0. 0.]\n",
      " ...\n",
      " [1. 1. 0. ... 1. 0. 1.]\n",
      " [0. 1. 1. ... 0. 0. 0.]\n",
      " [1. 1. 1. ... 0. 0. 1.]]\n"
     ]
    }
   ],
   "source": [
    "X_train = data[:,:-1]\n",
    "y_train = data[:,-1]\n",
    "print(X_train)"
   ]
  },
  {
   "cell_type": "code",
   "execution_count": null,
   "id": "fb3fa4e7-8a60-4194-ad11-93988beef3ce",
   "metadata": {},
   "outputs": [],
   "source": [
    "def my_map(X):\n",
    "    feat=[]\n",
    "    for x in range(31,0,-1):\n",
    "        y=khatri_rao(X.T,X[:,x:x+1].T)\n",
    "        feat.append(y)\n",
    "        feat=np.array(feat)\n",
    "        feat.reshape(528,1)\n",
    "    return feat\n",
    "#print(X_train[:,31:31+1].reshape(1,40000).shape,X_train.shape)"
   ]
  },
  {
   "cell_type": "code",
   "execution_count": null,
   "id": "2e070023-b6ac-43be-b2ab-a9da2b99de05",
   "metadata": {},
   "outputs": [],
   "source": [
    "def my_fit(X_train,y_train):\n",
    "    X_new=[]\n",
    "    n=X_train.shape[0]\n",
    "    for i in range(n):     \n",
    "        arr=my_map(X_train[i:i+1,:])\n",
    "        X_new.append(arr[0])\n",
    "    classifier=LogisticRegression(random_state=0)\n",
    "    X_new=np.array(X_new[:,:,0])\n",
    "    print(X_new.shape,y_train.shape)\n",
    "    '''classifier.fit(X_new,y_train)\n",
    "    w = classifier.coef_[0]\n",
    "    print(y_train.shape)\n",
    "    b = classifier.intercept_\n",
    "    return (w,b)'''\n",
    "print(\"RKGMBT\")"
   ]
  },
  {
   "cell_type": "code",
   "execution_count": null,
   "id": "12249eac-04be-49c6-a01a-e05706a4d079",
   "metadata": {},
   "outputs": [],
   "source": [
    "\n",
    "my_fit(X_train,y_train)\n",
    "print(w1)\n",
    "print(b1)"
   ]
  },
  {
   "cell_type": "code",
   "execution_count": null,
   "id": "5b7fea12-3e2b-4880-8b40-a60d6fba73fa",
   "metadata": {},
   "outputs": [],
   "source": []
  },
  {
   "cell_type": "code",
   "execution_count": null,
   "id": "000acf2c-912c-487e-95a3-063f3ac39e34",
   "metadata": {},
   "outputs": [],
   "source": []
  }
 ],
 "metadata": {
  "kernelspec": {
   "display_name": "Python 3 (ipykernel)",
   "language": "python",
   "name": "python3"
  },
  "language_info": {
   "codemirror_mode": {
    "name": "ipython",
    "version": 3
   },
   "file_extension": ".py",
   "mimetype": "text/x-python",
   "name": "python",
   "nbconvert_exporter": "python",
   "pygments_lexer": "ipython3",
   "version": "3.9.0"
  }
 },
 "nbformat": 4,
 "nbformat_minor": 5
}
